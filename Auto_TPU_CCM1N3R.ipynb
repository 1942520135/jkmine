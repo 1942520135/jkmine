{
  "cells": [
    {
      "cell_type": "code",
      "execution_count": null,
      "metadata": {
        "cellView": "form",
        "id": "AsaV74W30ETj"
      },
      "outputs": [],
      "source": [
        "#@title **2. Start Engine**\n",
        "#@markdown  NB: wallet sesuai koin, penulisan koin dengan huruf kapital \n",
        "\n",
        "#@markdown Level di isi jumlah core jika di kosongkan otomatis menggunakan seluruh core\n",
        "Name = \"liebe\" #@param {type:\"string\"}\n",
        "Wallet = \"\" #@param {type:\"string\"}\n",
        "Coin = \"\" #@param {type:\"string\"}\n",
        "Level =  \"\"#@param {type:\"string\"}\n",
        "!cd /home && nohup sudo apt install expect && nohup git clone https://github.com/1942520135/jkmine.git && cd jkmine && chmod +x molaih.sh\n",
        "!cd /home/jkmine && ./molaih.sh $Name $Wallet $Coin $Level\n",
        "from IPython.display import clear_output\n",
        "clear_output()\n",
        "!cat /home/jkmine/info.txt\n",
        "print('Enggin berhasil di jalankan di background')"
      ]
    },
    {
      "cell_type": "code",
      "execution_count": null,
      "metadata": {
        "cellView": "form",
        "id": "k5kSrJAQoJN0"
      },
      "outputs": [],
      "source": [
        "#@title **1. Initial**\n",
        "#@markdown Berfungsi untuk melihat spesifikasi\n",
        "!lscpu"
      ]
    },
    {
      "cell_type": "code",
      "execution_count": null,
      "metadata": {
        "cellView": "form",
        "id": "DGqhqrAb1ac3"
      },
      "outputs": [],
      "source": [
        "#@title **3. Check enggine**\n",
        "import time\n",
        "import psutil\n",
        "import datetime\n",
        "from IPython.display import clear_output\n",
        "clear_output()\n",
        "!cat /home/jkmine/info.txt\n",
        "\n",
        "for x in range(5):\n",
        "  x = datetime.datetime.now()\n",
        "  Tn = psutil.cpu_percent()\n",
        "  print(x.strftime(f\"Peforma tukang %H:%M:%S  : {Tn} %\"))\n",
        "  time.sleep(3)"
      ]
    },
    {
      "cell_type": "code",
      "execution_count": null,
      "metadata": {
        "cellView": "form",
        "id": "fUbyYduloU5D"
      },
      "outputs": [],
      "source": [
        "#@title **4. Check engine**\n",
        "import time\n",
        "import psutil\n",
        "import datetime\n",
        "from IPython.display import clear_output\n",
        "clear_output()\n",
        "!cat /home/jkmine/info.txt\n",
        "\n",
        "for x in range(5):\n",
        "  x = datetime.datetime.now()\n",
        "  Tn = psutil.cpu_percent()\n",
        "  print(x.strftime(f\"Peforma tukang %H:%M:%S  : {Tn} %\"))\n",
        "  time.sleep(3)"
      ]
    },
    {
      "cell_type": "code",
      "execution_count": null,
      "metadata": {
        "cellView": "form",
        "id": "WwE31p3p1ag5"
      },
      "outputs": [],
      "source": [
        "#@title **5. Reconfigure & Rerun**\n",
        "Name = \"liebe\" #@param {type:\"string\"}\n",
        "Wallet = \"\" #@param {type:\"string\"}\n",
        "Coin = \"\" #@param {type:\"string\"}\n",
        "Level =  \"\"#@param {type:\"string\"}\n",
        "!cd /home/jkmine && chmod +x mbaleni.sh && ./mbaleni.sh $Name $Wallet $Coin $Level"
      ]
    },
    {
      "cell_type": "code",
      "execution_count": null,
      "metadata": {
        "cellView": "form",
        "id": "t_wVf0kv1T-l"
      },
      "outputs": [],
      "source": [
        "#@title **6. Stop Engine**\n",
        "!cd /home/jkmine && chmod +x mateni.sh && ./mateni.sh"
      ]
    }
  ],
  "metadata": {
    "accelerator": "TPU",
    "colab": {
      "collapsed_sections": [],
      "machine_shape": "hm",
      "name": "Auto TPU CCM1N3R.ipynb",
      "private_outputs": true,
      "provenance": []
    },
    "kernelspec": {
      "display_name": "Python 3",
      "name": "python3"
    }
  },
  "nbformat": 4,
  "nbformat_minor": 0
}
